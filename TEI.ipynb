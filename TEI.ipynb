{
 "cells": [
  {
   "cell_type": "markdown",
   "metadata": {},
   "source": [
    "### Trait Emotional Intelligence score calculator. \n",
    "\n"
   ]
  },
  {
   "cell_type": "markdown",
   "metadata": {},
   "source": [
    "The function below is responsible to reverse the score. "
   ]
  },
  {
   "cell_type": "code",
   "execution_count": 6,
   "metadata": {},
   "outputs": [],
   "source": [
    "def reverse (x):\n",
    "    if x == 7:\n",
    "        return 1\n",
    "    if x == 6:\n",
    "        return 2\n",
    "    if x == 5:\n",
    "        return 3\n",
    "    if x == 4:\n",
    "        return 4\n",
    "    if x == 3:\n",
    "        return 5\n",
    "    if x == 2:\n",
    "        return 6\n",
    "    if x == 1:\n",
    "        return 7\n",
    "    else:\n",
    "        return \"Input should be between 1-7\""
   ]
  },
  {
   "cell_type": "code",
   "execution_count": 37,
   "metadata": {},
   "outputs": [],
   "source": [
    "inputlist = [6,1,3,5,6,2,4,6,5,4,3,6,2,2,6,2,6,7,3,1,4,7,6,1,1,7,3,7,6,5]  ### Replace this list with the scores received "
   ]
  },
  {
   "cell_type": "code",
   "execution_count": 12,
   "metadata": {},
   "outputs": [
    {
     "data": {
      "text/plain": [
       "30"
      ]
     },
     "execution_count": 12,
     "metadata": {},
     "output_type": "execute_result"
    }
   ],
   "source": [
    "len(inputlist) ### Just to make sure the number of inputs is always 30"
   ]
  },
  {
   "cell_type": "code",
   "execution_count": null,
   "metadata": {},
   "outputs": [],
   "source": [
    "revscore = [1,3,4,6,7,9,11,12,13,15,17,21,24,25,27] ### These are the indexes where score is to be reversed"
   ]
  },
  {
   "cell_type": "markdown",
   "metadata": {},
   "source": [
    "#### The loop below iterates over the input list and if the iterator matches any value in the revscore list then it calls the reverse() funtion to reverse the score"
   ]
  },
  {
   "cell_type": "code",
   "execution_count": 38,
   "metadata": {},
   "outputs": [],
   "source": [
    "out = []\n",
    "for i in range(len(inputlist)):\n",
    "    if i in revscore:\n",
    "        out.append(reverse(inputlist[i]))\n",
    "    else:\n",
    "        out.append(inputlist[i])"
   ]
  },
  {
   "cell_type": "code",
   "execution_count": 39,
   "metadata": {},
   "outputs": [
    {
     "name": "stdout",
     "output_type": "stream",
     "text": [
      "[6, 7, 3, 3, 2, 2, 4, 2, 5, 4, 3, 2, 6, 6, 6, 6, 6, 1, 3, 1, 4, 1, 6, 1, 7, 1, 3, 1, 6, 5]\n"
     ]
    }
   ],
   "source": [
    "print(out) ### Reversed score list "
   ]
  },
  {
   "cell_type": "code",
   "execution_count": 40,
   "metadata": {},
   "outputs": [
    {
     "name": "stdout",
     "output_type": "stream",
     "text": [
      "Well Being Score:2.3333333333333335\n"
     ]
    }
   ],
   "source": [
    "wb = (out[4]+out[19]+out[8]+out[23]+out[11]+out[26])/6\n",
    "print('Well Being Score:{}'.format(wb))"
   ]
  },
  {
   "cell_type": "code",
   "execution_count": 44,
   "metadata": {},
   "outputs": [
    {
     "name": "stdout",
     "output_type": "stream",
     "text": [
      "Self Control Score:3.6666666666666665\n"
     ]
    }
   ],
   "source": [
    "sc = (out[3]+out[18]+out[6]+out[21]+out[14]+out[29])/6\n",
    "print('Self Control Score:{}'.format(sc))"
   ]
  },
  {
   "cell_type": "code",
   "execution_count": 42,
   "metadata": {},
   "outputs": [
    {
     "name": "stdout",
     "output_type": "stream",
     "text": [
      "Emotionality Score:5.0\n"
     ]
    }
   ],
   "source": [
    "e = (out[0]+out[15]+out[1]+out[16]+out[7]+out[22]+out[12]+out[27])/8\n",
    "print('Emotionality Score:{}'.format(e))"
   ]
  },
  {
   "cell_type": "code",
   "execution_count": 43,
   "metadata": {},
   "outputs": [
    {
     "name": "stdout",
     "output_type": "stream",
     "text": [
      "Sociability Score:3.5\n"
     ]
    }
   ],
   "source": [
    "s = (out[5]+out[20]+out[9]+out[24]+out[10]+out[25])/6\n",
    "print('Sociability Score:{}'.format(s))"
   ]
  },
  {
   "cell_type": "code",
   "execution_count": null,
   "metadata": {},
   "outputs": [],
   "source": []
  }
 ],
 "metadata": {
  "kernelspec": {
   "display_name": "Python 3",
   "language": "python",
   "name": "python3"
  },
  "language_info": {
   "codemirror_mode": {
    "name": "ipython",
    "version": 3
   },
   "file_extension": ".py",
   "mimetype": "text/x-python",
   "name": "python",
   "nbconvert_exporter": "python",
   "pygments_lexer": "ipython3",
   "version": "3.7.6"
  }
 },
 "nbformat": 4,
 "nbformat_minor": 4
}
